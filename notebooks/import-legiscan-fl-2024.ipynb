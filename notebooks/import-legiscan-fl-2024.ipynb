{
 "cells": [
  {
   "cell_type": "markdown",
   "id": "8a8cf76c-c71e-4b96-90db-4e5278e244ed",
   "metadata": {},
   "source": [
    "# Import LegiScan data\n",
    "6/9/24 RR<br>\n",
    "This notebook imports bulk downloaded data from LegiScan's legislative session data (https://legiscan.com/FL/datasets)"
   ]
  },
  {
   "cell_type": "markdown",
   "id": "456a736c-9345-48f1-9277-1dcf852e3a44",
   "metadata": {},
   "source": [
    "## Setup"
   ]
  },
  {
   "cell_type": "code",
   "execution_count": 1,
   "id": "a6b9fa07-2094-4130-bc36-3a45a60a34cc",
   "metadata": {},
   "outputs": [
    {
     "name": "stdout",
     "output_type": "stream",
     "text": [
      "Defaulting to user installation because normal site-packages is not writeable\n",
      "Collecting psycopg2-binary\n",
      "  Downloading psycopg2_binary-2.9.9-cp310-cp310-manylinux_2_17_x86_64.manylinux2014_x86_64.whl (3.0 MB)\n",
      "\u001b[2K     \u001b[90m━━━━━━━━━━━━━━━━━━━━━━━━━━━━━━━━━━━━━━━━\u001b[0m \u001b[32m3.0/3.0 MB\u001b[0m \u001b[31m1.6 MB/s\u001b[0m eta \u001b[36m0:00:00\u001b[0m00:01\u001b[0m00:01\u001b[0m0m\n",
      "\u001b[?25hInstalling collected packages: psycopg2-binary\n",
      "Successfully installed psycopg2-binary-2.9.9\n"
     ]
    }
   ],
   "source": [
    "#!pip install psycopg2-binary"
   ]
  },
  {
   "cell_type": "code",
   "execution_count": 12,
   "id": "d9471951-f261-4753-bad2-24c7ac5cff9b",
   "metadata": {},
   "outputs": [],
   "source": [
    "import os\n",
    "import json\n",
    "import psycopg2\n",
    "from psycopg2 import sql"
   ]
  },
  {
   "cell_type": "markdown",
   "id": "4d5037c8-e9ac-4a80-82d2-43ab78a66722",
   "metadata": {},
   "source": [
    "### define functions"
   ]
  },
  {
   "cell_type": "code",
   "execution_count": 13,
   "id": "a9ca1507-8ca2-432b-bd62-f33629795708",
   "metadata": {},
   "outputs": [],
   "source": [
    "def create_table_if_not_exists(connection, cursor):\n",
    "    create_table_query = \"\"\"\n",
    "    CREATE TABLE IF NOT EXISTS raw_json_data (\n",
    "        id SERIAL PRIMARY KEY,\n",
    "        data JSONB\n",
    "    );\n",
    "    \"\"\"\n",
    "    try:\n",
    "        cursor.execute(create_table_query)\n",
    "        print(\"Table created successfully or already exists.\")\n",
    "    except Exception as e:\n",
    "        print(f\"Error creating table: {e}\")\n",
    "        connection.rollback()"
   ]
  },
  {
   "cell_type": "code",
   "execution_count": 14,
   "id": "049b8b91-05a5-46a5-82ad-ef9f759bba56",
   "metadata": {},
   "outputs": [],
   "source": [
    "def import_json_data(folder_path, table_name):\n",
    "    for root, _, files in os.walk(folder_path):\n",
    "        for file in files:\n",
    "            if file.endswith('.json'):\n",
    "                with open(os.path.join(root, file), 'r') as f:\n",
    "                    json_data = json.load(f)\n",
    "                    try:\n",
    "                        cursor.execute(\n",
    "                            sql.SQL(\"INSERT INTO {} (data) VALUES (%s)\").format(sql.Identifier(table_name)),\n",
    "                            [json.dumps(json_data)]\n",
    "                        )\n",
    "                    except Exception as e:\n",
    "                        print(f\"Error inserting data from file {file}: {e}\")\n",
    "                        connection.rollback()"
   ]
  },
  {
   "cell_type": "markdown",
   "id": "07157195-9bac-4f81-b371-f2d352f422c8",
   "metadata": {},
   "source": [
    "### database connection"
   ]
  },
  {
   "cell_type": "code",
   "execution_count": 15,
   "id": "2f1ac911-5cf9-413d-90fc-26f2533d41ef",
   "metadata": {},
   "outputs": [],
   "source": [
    "# Database connection details\n",
    "conn = psycopg2.connect(\n",
    "    host=\"localhost\",\n",
    "    database=\"fl_leg_votes\",\n",
    "    user=\"postgres\",\n",
    "    password=\"mysecretpassword\"\n",
    ")\n",
    "cursor = conn.cursor()"
   ]
  },
  {
   "cell_type": "code",
   "execution_count": 16,
   "id": "49725ff6-ee59-43e7-b1e9-3d14e49a46bc",
   "metadata": {},
   "outputs": [
    {
     "name": "stdout",
     "output_type": "stream",
     "text": [
      "Table created successfully or already exists.\n"
     ]
    }
   ],
   "source": [
    "# Set autocommit to True for table creation to avoid transaction issues\n",
    "conn.autocommit = True\n",
    "create_table_if_not_exists(conn, cursor)\n",
    "conn.autocommit = False  # Turn off autocommit for data insertion"
   ]
  },
  {
   "cell_type": "markdown",
   "id": "4bd7afa3-d52f-451c-b7b3-24f6e19f7294",
   "metadata": {},
   "source": [
    "### get it done"
   ]
  },
  {
   "cell_type": "code",
   "execution_count": 20,
   "id": "5d11d3f4-3c7f-4b40-8f70-4fd5d20d2005",
   "metadata": {},
   "outputs": [],
   "source": [
    "# Import JSON data from each folder\n",
    "import_json_data('../data_raw/fl24-regular-json/bill', 'raw_json_data')\n",
    "import_json_data('../data_raw/fl24-regular-json/people', 'raw_json_data')\n",
    "import_json_data('../data_raw/fl24-regular-json/vote', 'raw_json_data')"
   ]
  },
  {
   "cell_type": "code",
   "execution_count": 21,
   "id": "5b6b4b4c-07e0-4277-b7cd-8ef16905bc25",
   "metadata": {},
   "outputs": [
    {
     "name": "stdout",
     "output_type": "stream",
     "text": [
      "Data imported successfully.\n"
     ]
    }
   ],
   "source": [
    "# Commit the transaction\n",
    "try:\n",
    "    conn.commit()\n",
    "    print(\"Data imported successfully.\")\n",
    "except Exception as e:\n",
    "    conn.rollback()\n",
    "    print(f\"Error committing transaction: {e}\")"
   ]
  },
  {
   "cell_type": "code",
   "execution_count": 22,
   "id": "4e53c90e-5b98-4409-a4a3-e5b1f56f7736",
   "metadata": {},
   "outputs": [],
   "source": [
    "# Close the connection\n",
    "cursor.close()\n",
    "conn.close()"
   ]
  },
  {
   "cell_type": "code",
   "execution_count": null,
   "id": "e645a609-1355-4b28-af9f-be14d7870cc6",
   "metadata": {},
   "outputs": [],
   "source": []
  }
 ],
 "metadata": {
  "kernelspec": {
   "display_name": "Python 3 (ipykernel)",
   "language": "python",
   "name": "python3"
  },
  "language_info": {
   "codemirror_mode": {
    "name": "ipython",
    "version": 3
   },
   "file_extension": ".py",
   "mimetype": "text/x-python",
   "name": "python",
   "nbconvert_exporter": "python",
   "pygments_lexer": "ipython3",
   "version": "3.10.12"
  }
 },
 "nbformat": 4,
 "nbformat_minor": 5
}
